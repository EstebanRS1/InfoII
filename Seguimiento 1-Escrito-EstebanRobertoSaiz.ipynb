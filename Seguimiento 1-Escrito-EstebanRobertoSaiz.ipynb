{
  "cells": [
    {
      "cell_type": "markdown",
      "metadata": {
        "colab_type": "text",
        "id": "view-in-github"
      },
      "source": [
        "<a href=\"https://colab.research.google.com/github/EstebanRS1/InfoII/blob/main/Seguimiento%201-Escrito-EstebanRobertoSaiz.ipynb\" target=\"_parent\"><img src=\"https://colab.research.google.com/assets/colab-badge.svg\" alt=\"Open In Colab\"/></a>"
      ]
    },
    {
      "attachments": {},
      "cell_type": "markdown",
      "metadata": {
        "id": "YsG-FBquCklc"
      },
      "source": [
        "# **Preinforme de trabajo #1(Parte Escrita)**\n",
        "15/02/2023\n",
        "\n",
        "## Integrantes:\n",
        "*   Esteban Roberto Saiz - esteban.roberto@udea.edu.co\n"
      ]
    },
    {
      "attachments": {},
      "cell_type": "markdown",
      "metadata": {
        "id": "mDEPqNcxC84-"
      },
      "source": [
        "## **Punto 1**\n",
        "\n",
        "Consulte cuáles son los pilares de la programación orientada a objetos, defínalos en sus palabras y realice un ejemplo práctico para cada uno, comentando en qué parte se aplican. Los pilares básicos son: Abstracción, Herencia, Polimorfismo y Encapsulamiento, aunque en algunos sitios reportan más.\n",
        "\n",
        "**Solución:**\n",
        "\n",
        "Los cuatro pilares Principales son:\n",
        "\n",
        "1) *Abstracción*: Separa los datos de un objeto para generar una plantilla (clase), extrayendo asi toda la informacion relevante y descartando lo demás.\n",
        "\n",
        "2) *Herencia*: Permita la reutilizacion de codigo, como lo es una clase, y asi implementar nuevas instrucciones, dando la jerarquia Padre e Hijo.\n",
        "\n",
        "3) *Polimorfismo*: Se usa para crear metodos con el mismo nombre pero con diferente comportamiento, donde se usa una clase base.\n",
        "\n",
        "4) *Encapsulamiento:* Nos permite acceder a atributos y metodos unicos, protegiendo asi la integridad interna de los datos de una clase.\n",
        "\n",
        "\n",
        "__Referencias:__ \n",
        "\n",
        "[Programacion Orientada a Objetos](https://kinsta.com/es/blog/programacion-orientada-objetos-python/)\n",
        "\n",
        "[Los 4 Pilares de POO](https://gavilanch.wordpress.com/2018/07/05/los-4-pilares-de-la-programacion-orientada-a-objetos/)\n",
        "\n",
        "[4 Elementos y pilares básicos de la Programación Orientada a Objetos POO](https://platzi.com/tutoriales/1474-oop/6108-4-elementos-y-pilares-basicos-de-la-programacion-orientada-a-objetos-poo/)"
      ]
    },
    {
      "cell_type": "code",
      "execution_count": 14,
      "metadata": {
        "id": "Xf9Fpds6CiAZ"
      },
      "outputs": [
        {
          "name": "stdout",
          "output_type": "stream",
          "text": [
            "Renault\n",
            "KN44ASO633SDF\n"
          ]
        }
      ],
      "source": [
        "#Ejemplo Abstraccion y de Encapsulamiento y de  Herencia\n",
        "class Carro:\n",
        "    def __init__(self):   #Caracteristicas del Carro/ Abstraccion\n",
        "        self.Marca=\"Renault\"\n",
        "        self.Modelo=2016\n",
        "        self.Puertas=2\n",
        "        self.Carroceria=\"Coupe\"\n",
        "        self.__Chasis=\"KN44ASO633SDF\" #Encapsulamiento\n",
        "    \n",
        "    def verChasis(self):\n",
        "        return self.__Chasis\n",
        "\n",
        "class Camion(Carro): #Herencia: Heredo clase de Carro\n",
        "    def __init__(self):\n",
        "        self.PesoKg=3500\n",
        "        self.Largo_plataformaM=450\n",
        "        self.Ejes=4\n",
        "\n",
        "a=Carro()\n",
        "print(a.Marca)\n",
        "print(a.verChasis())\n"
      ]
    },
    {
      "cell_type": "code",
      "execution_count": null,
      "metadata": {},
      "outputs": [],
      "source": [
        "#Ejemplo de Polimorfismo\n",
        "class Animal:\n",
        "    def hablar(self):\n",
        "        pass\n",
        "\n",
        "class Perro(Animal):\n",
        "    def hablar(self):\n",
        "        print(\"Guau!\")\n",
        "\n",
        "class Gato(Animal): #Utilizo el metodo hablar() de forma distinta\n",
        "    def hablar(self):\n",
        "        print(\"Miau!!\")"
      ]
    },
    {
      "attachments": {},
      "cell_type": "markdown",
      "metadata": {
        "id": "T8TGYG9zDQ0_"
      },
      "source": [
        "## **Punto 2**\n",
        "\n",
        "Consulte qué es la modularidad en la programación y cómo ayuda esto al mantenimiento a largo plazo de grandes aplicaciones.\n",
        "\n",
        "**Solución:**\n",
        "\n",
        "En este espacio se escribe la solución"
      ]
    },
    {
      "cell_type": "code",
      "execution_count": null,
      "metadata": {
        "id": "WXtt69nHDQ0_"
      },
      "outputs": [],
      "source": [
        "#Espacio para escribir código en caso de ser solicitado"
      ]
    },
    {
      "attachments": {},
      "cell_type": "markdown",
      "metadata": {},
      "source": [
        "## **Punto 3**\n",
        "\n",
        "Consulte cómo son los objetos en otro lenguaje (PHP, Java, C++, Javascript, etc), y compare su sintaxis y construcción con los objetos de Python. Elija SÓLO UN LENGUAJE. Describa en sus palabras cuál le parece más práctico, fácil y cómodo.\n",
        "\n",
        "**Solución:**\n",
        "\n",
        "En este espacio se escribe la solución"
      ]
    },
    {
      "attachments": {},
      "cell_type": "markdown",
      "metadata": {},
      "source": [
        "## **Punto 4**\n",
        "\n",
        "Explique en sus palabras qué son los atributos y qué son los métodos dentro de un objeto. Realice un ejemplo práctico en donde comente cuál es cuál.\n",
        "\n",
        "**Solución:**\n",
        "\n",
        "En este espacio se escribe la solución"
      ]
    }
  ],
  "metadata": {
    "colab": {
      "include_colab_link": true,
      "provenance": []
    },
    "kernelspec": {
      "display_name": "Python 3",
      "language": "python",
      "name": "python3"
    },
    "language_info": {
      "codemirror_mode": {
        "name": "ipython",
        "version": 3
      },
      "file_extension": ".py",
      "mimetype": "text/x-python",
      "name": "python",
      "nbconvert_exporter": "python",
      "pygments_lexer": "ipython3",
      "version": "3.11.0"
    },
    "vscode": {
      "interpreter": {
        "hash": "442367a78ad2513b796ad62e77bf8b114cdf9a8662c804798893dc403537c7f8"
      }
    }
  },
  "nbformat": 4,
  "nbformat_minor": 0
}
