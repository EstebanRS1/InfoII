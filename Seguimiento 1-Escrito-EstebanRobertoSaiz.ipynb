{
  "cells": [
    {
      "cell_type": "markdown",
      "metadata": {
        "colab_type": "text",
        "id": "view-in-github"
      },
      "source": [
        "<a href=\"https://colab.research.google.com/github/EstebanRS1/InfoII/blob/main/Seguimiento%201-Escrito-EstebanRobertoSaiz.ipynb\" target=\"_parent\"><img src=\"https://colab.research.google.com/assets/colab-badge.svg\" alt=\"Open In Colab\"/></a>"
      ]
    },
    {
      "attachments": {},
      "cell_type": "markdown",
      "metadata": {
        "id": "YsG-FBquCklc"
      },
      "source": [
        "# **Preinforme de trabajo #1(Parte Escrita)**\n",
        "15/02/2023\n",
        "\n",
        "## Integrantes:\n",
        "*   Esteban Roberto Saiz - esteban.roberto@udea.edu.co\n"
      ]
    },
    {
      "attachments": {},
      "cell_type": "markdown",
      "metadata": {
        "id": "mDEPqNcxC84-"
      },
      "source": [
        "## **Punto 1**\n",
        "\n",
        "Consulte cuáles son los pilares de la programación orientada a objetos, defínalos en sus palabras y realice un ejemplo práctico para cada uno, comentando en qué parte se aplican. Los pilares básicos son: Abstracción, Herencia, Polimorfismo y Encapsulamiento, aunque en algunos sitios reportan más.\n",
        "\n",
        "**Solución:**\n",
        "\n",
        "Los cuatro pilares Principales son:\n",
        "\n",
        "1) *Abstracción*: Separa los datos de un objeto para generar una plantilla (clase), extrayendo asi toda la informacion relevante y descartando lo demás.\n",
        "\n",
        "2) *Herencia*: Permita la reutilizacion de codigo, como lo es una clase, y asi implementar nuevas instrucciones, dando la jerarquia Padre e Hijo.\n",
        "\n",
        "3) *Polimorfismo*: Se usa para crear metodos con el mismo nombre pero con diferente comportamiento, donde se usa una clase base.\n",
        "\n",
        "4) *Encapsulamiento:* Nos permite acceder a atributos y metodos unicos, protegiendo asi la integridad interna de los datos de una clase.\n",
        "\n",
        "\n",
        "__Referencias:__ \n",
        "\n",
        "[Programacion Orientada a Objetos](https://kinsta.com/es/blog/programacion-orientada-objetos-python/)\n",
        "\n",
        "[Los 4 Pilares de POO](https://gavilanch.wordpress.com/2018/07/05/los-4-pilares-de-la-programacion-orientada-a-objetos/)\n",
        "\n",
        "[4 Elementos y pilares básicos de la Programación Orientada a Objetos POO](https://platzi.com/tutoriales/1474-oop/6108-4-elementos-y-pilares-basicos-de-la-programacion-orientada-a-objetos-poo/)"
      ]
    },
    {
      "cell_type": "code",
      "execution_count": 14,
      "metadata": {
        "id": "Xf9Fpds6CiAZ"
      },
      "outputs": [
        {
          "name": "stdout",
          "output_type": "stream",
          "text": [
            "Renault\n",
            "KN44ASO633SDF\n"
          ]
        }
      ],
      "source": [
        "#Ejemplo Abstraccion y de Encapsulamiento y de  Herencia\n",
        "class Carro:\n",
        "    def __init__(self):   #Caracteristicas del Carro/ Abstraccion\n",
        "        self.Marca=\"Renault\"\n",
        "        self.Modelo=2016\n",
        "        self.Puertas=2\n",
        "        self.Carroceria=\"Coupe\"\n",
        "        self.__Chasis=\"KN44ASO633SDF\" #Encapsulamiento\n",
        "    \n",
        "    def verChasis(self):\n",
        "        return self.__Chasis\n",
        "\n",
        "class Camion(Carro): #Herencia: Heredo clase de Carro\n",
        "    def __init__(self):\n",
        "        self.PesoKg=3500\n",
        "        self.Largo_plataformaM=450\n",
        "        self.Ejes=4\n",
        "\n",
        "a=Carro()\n",
        "print(a.Marca)\n",
        "print(a.verChasis())\n"
      ]
    },
    {
      "cell_type": "code",
      "execution_count": null,
      "metadata": {},
      "outputs": [],
      "source": [
        "#Ejemplo de Polimorfismo\n",
        "class Animal:\n",
        "    def hablar(self):\n",
        "        pass\n",
        "\n",
        "class Perro(Animal):\n",
        "    def hablar(self):\n",
        "        print(\"Guau!\")\n",
        "\n",
        "class Gato(Animal): #Utilizo el metodo hablar() de forma distinta\n",
        "    def hablar(self):\n",
        "        print(\"Miau!!\")"
      ]
    },
    {
      "attachments": {},
      "cell_type": "markdown",
      "metadata": {
        "id": "T8TGYG9zDQ0_"
      },
      "source": [
        "## **Punto 2**\n",
        "\n",
        "Consulte qué es la modularidad en la programación y cómo ayuda esto al mantenimiento a largo plazo de grandes aplicaciones.\n",
        "\n",
        "**Solución:**\n",
        "\n",
        "La modularidad consiste en dividir un programa en modulos que puedan compilarse por separado, sin embargo tiene conexiones con otros modulos. Por lo cual nos va permitir reutilizar el codigo, evitar colapsos, hacer nuestro codigo mas mantenible, con mas legibilidad, y resolucion rapida de problemas al codigo. De igual forma, para el mantenimiento de las aplicaciones, ayuda a reducir la complejidad del problema, reduciendo el tamaño del problema y favoreciendo el entendimiento de este mismo, facilitando la cooperacion entre programadores.\n",
        "\n",
        "*_Referencias:_* [Programación modular](http://ri.uaemex.mx/bitstream/handle/20.500.11799/69946/secme-19449_1.pdf?sequence=1&isAllowed=y#:~:text=La%20programaci%C3%B3n%20modular%20permite%3A,de%20la%20ejecuci%C3%B3n%20del%20mismo.)"
      ]
    },
    {
      "attachments": {},
      "cell_type": "markdown",
      "metadata": {},
      "source": [
        "## **Punto 3**\n",
        "\n",
        "Consulte cómo son los objetos en otro lenguaje (PHP, Java, C++, Javascript, etc), y compare su sintaxis y construcción con los objetos de Python. Elija SÓLO UN LENGUAJE. Describa en sus palabras cuál le parece más práctico, fácil y cómodo.\n",
        "\n",
        "**Solución:**\n",
        "\n",
        "En Java, no se tiene nunca acceso al objeto en sí, siempre se opera con una referencia. Solo una clase puede ser _public_, la clase publica debe llamarse igual que el archivo que la contiene, y cada clase debe tener su propio nombre por lo cual deben ser distintos de los demas. Para crear un objeto primero se especifica el tipo de objeto que se esta creando, especificando la clase. Luego, el nombre del objeto (que es la referencia del objeto), seguido de la palabra clave _new_ que es la que se encarga de instanciar el objeto, finalmente, de nuevo con el tipo de la clase y un parentesis. La sintaxis para definir una clase en Java es un poco diferente de Python, las propiedades de la clase deben definirse como private y deben accederse a través de métodos públicos llamados getters y setters, el constructor se define como un método público con el mismo nombre que la clase. En Java, se utiliza la sintaxis **nombre_de_la_clase nombre_del_objeto = new** , mientras que en Python es **nombre_de_la_clase(argumentos_del_constructor)**.\n",
        "\n",
        "Me parece mas practico Python debido a que es un lenguaje mucho mas parecido al lenguaje comun, donde se entiende muy facil por la semejanza. Mientras que en Java el lenguaje es un poco mas estructurado y tiende a ser mas \"complejo\" de entenderlo a simple vista.\n",
        "\n",
        "\n",
        "*Referencias:* [Java](https://javautodidacta.es/objeto-en-java/)\n"
      ]
    },
    {
      "attachments": {},
      "cell_type": "markdown",
      "metadata": {},
      "source": [
        "## **Punto 4**\n",
        "\n",
        "Explique en sus palabras qué son los atributos y qué son los métodos dentro de un objeto. Realice un ejemplo práctico en donde comente cuál es cuál.\n",
        "\n",
        "**Solución:**\n",
        "\n",
        "En Python, los atributos son variables que se definen dentro de una clase y están asociadas a un objeto. Los métodos son funciones que se definen dentro de una clase y se utilizan para realizar acciones en el objeto o manipular los atributos del objeto.\n",
        "\n",
        "Aquí hay un ejemplo de cómo definir una clase Persona con atributos nombre y edad y un método saludar que imprime un saludo con el nombre y la edad de la persona: xxxx\n",
        "\n",
        "En este ejemplo, nombre y edad son atributos de la clase Persona. El método __init__ se utiliza para inicializar los atributos de la clase en el momento en que se crea un objeto.\n",
        "\n",
        "El método saludar es un método de la clase Persona que utiliza los valores de los atributos nombre y edad para imprimir un saludo personalizado. El parámetro self se utiliza para referirse al objeto actual.\n",
        "\n",
        "Para crear un objeto de la clase Persona y llamar al método saludar, se puede hacer lo siguiente: xxxxx\n",
        "\n",
        "En este ejemplo, se crea un objeto juan de la clase Persona con los valores de los atributos nombre y edad establecidos en \"Juan\" y 25, respectivamente. Luego, se llama al método saludar del objeto juan, que imprimirá \"Hola, mi nombre es Juan y tengo 25 años.\""
      ]
    },
    {
      "cell_type": "code",
      "execution_count": null,
      "metadata": {},
      "outputs": [],
      "source": [
        "class Persona:\n",
        "    def __init__(self, nombre, edad):\n",
        "        self.nombre = nombre\n",
        "        self.edad = edad\n",
        "    \n",
        "    def saludar(self):\n",
        "        print(f\"Hola, mi nombre es {self.nombre} y tengo {self.edad} años.\")\n",
        "# Crear un objeto de la clase Persona\n",
        "juan = Persona(\"Juan\", 25)\n",
        "\n",
        "# Llamar al método saludar del objeto\n",
        "juan.saludar()\n"
      ]
    }
  ],
  "metadata": {
    "colab": {
      "include_colab_link": true,
      "provenance": []
    },
    "kernelspec": {
      "display_name": "Python 3",
      "language": "python",
      "name": "python3"
    },
    "language_info": {
      "codemirror_mode": {
        "name": "ipython",
        "version": 3
      },
      "file_extension": ".py",
      "mimetype": "text/x-python",
      "name": "python",
      "nbconvert_exporter": "python",
      "pygments_lexer": "ipython3",
      "version": "3.11.0"
    },
    "vscode": {
      "interpreter": {
        "hash": "442367a78ad2513b796ad62e77bf8b114cdf9a8662c804798893dc403537c7f8"
      }
    }
  },
  "nbformat": 4,
  "nbformat_minor": 0
}
