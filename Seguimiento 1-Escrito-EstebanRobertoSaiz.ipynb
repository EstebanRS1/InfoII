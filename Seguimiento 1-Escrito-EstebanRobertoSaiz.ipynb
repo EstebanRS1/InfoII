{
  "nbformat": 4,
  "nbformat_minor": 0,
  "metadata": {
    "colab": {
      "provenance": [],
      "include_colab_link": true
    },
    "kernelspec": {
      "name": "python3",
      "display_name": "Python 3"
    },
    "language_info": {
      "name": "python"
    }
  },
  "cells": [
    {
      "cell_type": "markdown",
      "metadata": {
        "id": "view-in-github",
        "colab_type": "text"
      },
      "source": [
        "<a href=\"https://colab.research.google.com/github/EstebanRS1/InfoII/blob/main/Seguimiento%201-Escrito-EstebanRobertoSaiz.ipynb\" target=\"_parent\"><img src=\"https://colab.research.google.com/assets/colab-badge.svg\" alt=\"Open In Colab\"/></a>"
      ]
    },
    {
      "cell_type": "markdown",
      "source": [
        "# **Preinforme de trabajo #N**\n",
        "00/00/2023\n",
        "\n",
        "## Integrantes:\n",
        "*   Nombre de integrante 1 - Correo\n",
        "*   Nombre de integrante 2 - Correo"
      ],
      "metadata": {
        "id": "YsG-FBquCklc"
      }
    },
    {
      "cell_type": "markdown",
      "source": [
        "## **Punto N-1**\n",
        "\n",
        "Enunciado propuesto\n",
        "\n",
        "**Solución:**\n",
        "\n",
        "En este espacio se escribe la solución"
      ],
      "metadata": {
        "id": "mDEPqNcxC84-"
      }
    },
    {
      "cell_type": "code",
      "execution_count": null,
      "metadata": {
        "id": "Xf9Fpds6CiAZ"
      },
      "outputs": [],
      "source": [
        "#Espacio para escribir código en caso de ser solicitado"
      ]
    },
    {
      "cell_type": "markdown",
      "source": [
        "## **Punto N**\n",
        "\n",
        "Enunciado propuesto\n",
        "\n",
        "**Solución:**\n",
        "\n",
        "En este espacio se escribe la solución"
      ],
      "metadata": {
        "id": "T8TGYG9zDQ0_"
      }
    },
    {
      "cell_type": "code",
      "execution_count": null,
      "metadata": {
        "id": "WXtt69nHDQ0_"
      },
      "outputs": [],
      "source": [
        "#Espacio para escribir código en caso de ser solicitado"
      ]
    }
  ]
}