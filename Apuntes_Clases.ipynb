{
 "cells": [
  {
   "attachments": {},
   "cell_type": "markdown",
   "metadata": {},
   "source": [
    "# **Abstraccion**\n",
    "\n",
    "Extaer las características y comportamientos\n",
    "mas generales que describen un objeto cotidiano\n",
    "\n",
    "**Clase:**\n",
    "Conjunto de atributos y métodos relacionados\n",
    "a un elemento relevante del problema a resolver.\n",
    "SIrve como __PLANTILLA__ para construir objetos\n",
    "\n",
    "**Objeto:**\n",
    "Variable en memoria construida a partir de una\n",
    "plantilla , patrón ó __CLASE__\n"
   ]
  },
  {
   "attachments": {},
   "cell_type": "markdown",
   "metadata": {},
   "source": [
    "**Método __init__, constructor:**\n",
    "\n",
    "Todas las clases tienen un método __init__parentesis(self) (con doble guión\n",
    "bajo) el cual es llamado de manera automática cuando la\n",
    "clase es inicializada.\n",
    "La palabra self, permite identificar el propio objeto que está\n",
    "ejecutandose, de entre todos los que pueden existir en en\n",
    "memoria en un momento dado\n"
   ]
  },
  {
   "attachments": {},
   "cell_type": "markdown",
   "metadata": {},
   "source": [
    "# **Herencia**\n",
    "\n",
    "Permite definir relaciones de generalización\n",
    "donde se parte , de lo general a lo concreto\n",
    "Ayuda a la reutilización de código y a la\n",
    "adaptación de funcionalidades nuevas mediante\n",
    "el polimorfismo\n",
    "\n",
    "La syntaxis es de la siguiente forma:\n",
    "\n",
    "class hijo(padre):"
   ]
  },
  {
   "cell_type": "code",
   "execution_count": 5,
   "metadata": {},
   "outputs": [
    {
     "name": "stdout",
     "output_type": "stream",
     "text": [
      "Juan esta leyendo Cien años de soledad\n",
      "Maria esta leyendo La Quinta Montaña\n",
      "0\n"
     ]
    }
   ],
   "source": [
    "class Persona:\n",
    "  def __init__(self):#--->Constructor\n",
    "    self.name=\"\"\n",
    "    self.ced=0\n",
    "    \n",
    "  def leer(self,libro):\n",
    "    print(f\"{self.name} esta leyendo {libro}\")\n",
    "\n",
    "l=Persona()\n",
    "l.name=\"Juan\"\n",
    "l.leer(\"Cien años de soledad\")\n",
    "\n",
    "g=Persona()\n",
    "g.name=\"Maria\"\n",
    "g.leer(\"La Quinta Montaña\")\n",
    "\n",
    "\n",
    "x=0\n",
    "y=[1,2,3,4,l,x,g]\n",
    "z={1:l,2:l.name,3:x,4:g.ced}\n",
    "\n",
    "print(z[4])\n",
    "\n",
    "g.name=l\n"
   ]
  },
  {
   "cell_type": "code",
   "execution_count": 6,
   "metadata": {},
   "outputs": [
    {
     "name": "stdout",
     "output_type": "stream",
     "text": [
      "Azul\n"
     ]
    }
   ],
   "source": [
    "#Clase---> Plantilla\n",
    "# Abstraccion,\n",
    "class Carro:\n",
    "    def __init__(self):\n",
    "        self.modelo=\"\"\n",
    "        self.color=\"Azul\"\n",
    "\n",
    "j=Carro()\n",
    "print(j.color)\n",
    "\n",
    "BMW= Carro()\n",
    "\n",
    "BMW.modelo=\"Bmw_2023\""
   ]
  },
  {
   "attachments": {},
   "cell_type": "markdown",
   "metadata": {},
   "source": [
    "# **Encapsulamiento**\n",
    "\n",
    "Atributos y/o metodos internos de una clase sean manipulables desde dentro de los instantes de dichas clase. Los aisla, los vuelve privados.\n",
    "\n",
    "self.__nombreVariable\n",
    "\n",
    "self.__nombreFuncion\n"
   ]
  },
  {
   "cell_type": "code",
   "execution_count": 7,
   "metadata": {},
   "outputs": [
    {
     "name": "stdout",
     "output_type": "stream",
     "text": [
      "Negro\n",
      "<bound method Carro.asignarcolor of <__main__.Carro object at 0x0000021901FBDFD0>>\n"
     ]
    }
   ],
   "source": [
    "#@title\n",
    "class Carro():\n",
    "  def __init__(self):\n",
    "    self.modelo =2000\n",
    "    self.__color=\"Negro\"\n",
    "\n",
    "  def verColor(self):\n",
    "    return self.__color\n",
    "\n",
    "  def asignarcolor(self,c):\n",
    "    self.__color=c\n",
    "a=Carro()\n",
    "print(a.verColor())\n",
    "a.asignarcolor(\"Verde\")\n",
    "print(a.asignarcolor)"
   ]
  },
  {
   "attachments": {},
   "cell_type": "markdown",
   "metadata": {},
   "source": [
    "# **Notacion UML** (Lenguaje Unificado de Modelado)\n",
    "\n",
    "Modifica datos de manera indivudual, hay un metodo por cada atributo\n"
   ]
  },
  {
   "cell_type": "code",
   "execution_count": 8,
   "metadata": {},
   "outputs": [],
   "source": [
    "# Estructura General\n",
    "\n",
    "class Nombre_de_la_Clase():\n",
    "    def __init__(self):\n",
    "        self.atributo='Valor'\n",
    "    \n",
    "    def operacion(self):\n",
    "        pass"
   ]
  },
  {
   "cell_type": "code",
   "execution_count": 9,
   "metadata": {},
   "outputs": [
    {
     "name": "stdout",
     "output_type": "stream",
     "text": [
      "Negro\n",
      "<bound method Carro.asignarcolor of <__main__.Carro object at 0x0000021901F95D10>>\n"
     ]
    }
   ],
   "source": [
    "#Falta\n",
    "\n",
    "class Carro():\n",
    "  def __init__(self):\n",
    "    self.modelo =2000\n",
    "    self.__color=\"Negro\"\n",
    "  #Propiedades, metodos getters y setters y deleters\n",
    "  def getColor(self):\n",
    "    return self.__color\n",
    "  def setColor(self,c):\n",
    "    self.__color=c\n",
    "\n",
    "  def getModelo(self):\n",
    "    return self.modelo\n",
    "  def setModelo(self,c):\n",
    "    self.__modelo=c\n",
    "\n",
    "  def verColor(self):\n",
    "    return self.__color\n",
    "\n",
    "  def asignarcolor(self,c):\n",
    "    self.__color=c\n",
    "a=Carro()\n",
    "print(a.verColor())\n",
    "a.asignarcolor(\"Verde\")\n",
    "print(a.asignarcolor)"
   ]
  },
  {
   "attachments": {},
   "cell_type": "markdown",
   "metadata": {},
   "source": [
    "# **CLASES**\n",
    "\n",
    "(.#) --- Protegido: Puedo acceder desde otra clase, siempre y cuando este relacionada(Herencia)\n",
    "\n",
    "(.__) --- Privado: Puedo acceder desde la misma clase\n",
    "\n",
    "( .+ ) --- Publico: Puedo acceder desde cualquier parte"
   ]
  },
  {
   "cell_type": "code",
   "execution_count": 10,
   "metadata": {},
   "outputs": [],
   "source": [
    "class Persona():\n",
    "  def __init__(self,n,c,g):\n",
    "    self.__nombre =n\n",
    "    self.__cedula=c\n",
    "    self.__genero=g\n",
    "    \n",
    "class Paciente(Persona):#Heredo de Persona (Falta definirla)\n",
    "  def __init__(self):\n",
    "    Persona.__init__(self)\n",
    "    self.__servicio=[]\n",
    "  \n",
    "  #terminar el codigo de la clase"
   ]
  },
  {
   "attachments": {},
   "cell_type": "markdown",
   "metadata": {},
   "source": [
    "The __init__() Function"
   ]
  },
  {
   "cell_type": "code",
   "execution_count": 4,
   "metadata": {},
   "outputs": [
    {
     "name": "stdout",
     "output_type": "stream",
     "text": [
      "John\n",
      "36\n"
     ]
    }
   ],
   "source": [
    "#Otro Ejemplo\n",
    "class Person:\n",
    "  def __init__(self, name, age):\n",
    "    self.name = name\n",
    "    self.age = age\n",
    "\n",
    "p1 = Person(\"John\", 36)\n",
    "\n",
    "print(p1.name)\n",
    "print(p1.age)"
   ]
  },
  {
   "attachments": {},
   "cell_type": "markdown",
   "metadata": {},
   "source": [
    "__str__() function"
   ]
  },
  {
   "cell_type": "code",
   "execution_count": 12,
   "metadata": {},
   "outputs": [
    {
     "name": "stdout",
     "output_type": "stream",
     "text": [
      "John(36)\n"
     ]
    }
   ],
   "source": [
    "# Ejemplo de __str__() function\n",
    "class Person:\n",
    "  def __init__(self, name, age):\n",
    "    self.name = name\n",
    "    self.age = age\n",
    "\n",
    "  def __str__(self):\n",
    "    return f\"{self.name}({self.age})\"\n",
    "\n",
    "p1 = Person(\"John\", 36)\n",
    "\n",
    "print(p1)"
   ]
  },
  {
   "attachments": {},
   "cell_type": "markdown",
   "metadata": {},
   "source": [
    "# **Ejercicio 1**\n",
    "\n",
    "Se solicita construir un sistema que permita almacenar datos de pacientes, médicos y enfermeras.\n",
    "\n",
    "Los pacientes tienen información de nombre, cédula, género y servicio, que corresponde al servicio\n",
    "donde están alojados.\n",
    "\n",
    "Las enfermeras tienen la misma información que los pacientes, menos servicio, mas turno (que puede\n",
    "ser 7-19, 19-7, corrido) y rango (auxiliar, jefe, jefe del servicio ).\n",
    "\n",
    "Adicionalmente pueden existir médicos que tienen toda la información de las enfermeras, menos el\n",
    "rango, más especialidad"
   ]
  },
  {
   "cell_type": "code",
   "execution_count": 10,
   "metadata": {},
   "outputs": [
    {
     "name": "stdout",
     "output_type": "stream",
     "text": [
      "Pepito\n"
     ]
    }
   ],
   "source": [
    "class Persona():\n",
    "    def __init__(self):\n",
    "        self.__nombre=\"\"\n",
    "        self.__cedula=0\n",
    "        self.__genero=\"\"\n",
    "\n",
    "    #Setters\n",
    "    def asignarNombre(self,nombre):\n",
    "        self.__nombre = nombre\n",
    "    def asignarCedula(self,cedula):    \n",
    "        self.__cedula= cedula\n",
    "    def asignarGenero(self,genero):\n",
    "        self.__genero=genero\n",
    "    \n",
    "\n",
    "    #Getters\n",
    "    def verNombre(self):\n",
    "        return self.__nombre\n",
    "    def verCedula(self):\n",
    "        return self.__cedula\n",
    "    def verGenero(self):\n",
    "        return self.__genero\n",
    "\n",
    "    #Deletters\n",
    "    def delNombre(self):\n",
    "        del self.__nombre\n",
    "    def delCedula(self):\n",
    "        del self.__cedula\n",
    "    def delGenero(self):\n",
    "        del self.__genero\n",
    "    \n",
    "\n",
    "class Paciente(Persona):\n",
    "    def __init__(self):\n",
    "        self.__servicio=\"\"\n",
    "    def asignarServicio(self,servicio):\n",
    "        self.__servicio=servicio\n",
    "    def verServicio(self):\n",
    "        return self.__servicio\n",
    "    \n",
    "\n",
    "class Empleado_Hospital(Persona):\n",
    "    def __init__(self):\n",
    "        self.__turno=\"\"\n",
    "    def asignarTurno(self,turno):\n",
    "        self.__turno=turno\n",
    "    def verTurno(self):\n",
    "        return self.__turno\n",
    "    \n",
    "class Enfermera(Empleado_Hospital):\n",
    "    def __init__(self):\n",
    "        self.__rango=\"\"\n",
    "    def asignarRango(self,rango):\n",
    "        self.__rango=rango\n",
    "    def verRango(self):\n",
    "        return self.rango\n",
    "\n",
    "class Medicos(Empleado_Hospital):\n",
    "    def __init__(self):\n",
    "        self.especialidad=\"\"\n",
    "    def asignarEspecialidad(self,especialidad):\n",
    "        self.especialidad=especialidad\n",
    "    def verEspecialidad(self):\n",
    "        return self.especialidad\n",
    "\n",
    "p1=Paciente()\n",
    "p2=Paciente()\n",
    "\n",
    "p1.asignarNombre(\"Pepito\")\n",
    "p1.asignarCedula(123456)\n",
    "p1.asignarGenero(\"Hombre\")\n",
    "\n",
    "print(p1.verNombre())\n",
    "\n",
    "class Sistema:\n",
    "    def __init__(self):\n",
    "        pass"
   ]
  },
  {
   "attachments": {},
   "cell_type": "markdown",
   "metadata": {},
   "source": [
    "# **Ejercicio 2**\n",
    "\n",
    "Realizar un Menu permita ingresar los datos ya sea de\n",
    "un paciente, una enfermera o un\n",
    "médico. Una vez ingresados imprima\n",
    "por pantalla la información respectiva"
   ]
  },
  {
   "cell_type": "code",
   "execution_count": 9,
   "metadata": {},
   "outputs": [],
   "source": [
    "while True:\n",
    "    \n",
    "    menuGen=int(input(\"\"\"\n",
    "    1. Ingresar Datos Paciente\n",
    "    2. Ingresar Datos Enfermera\n",
    "    3. Ingresar Datos Medico\n",
    "\n",
    "    4.Salir\n",
    "    \"\"\"))\n",
    "\n",
    "    if menuGen==4:\n",
    "        break\n",
    "    elif menuGen==1:\n",
    "        nuevoN=input('Ingrese Nuevo Nombre: ')\n",
    "    elif menuGen==2:\n",
    "        pass\n",
    "    elif menuGen==3:\n",
    "        pass\n",
    "    else:\n",
    "        print(\"Error! valide de nuevo\")"
   ]
  },
  {
   "attachments": {},
   "cell_type": "markdown",
   "metadata": {},
   "source": [
    "# **GitHub**\n",
    "\n",
    "Pool--> Enviar\n",
    "-\n",
    "Push --> Recibir\n",
    "-"
   ]
  },
  {
   "attachments": {},
   "cell_type": "markdown",
   "metadata": {},
   "source": [
    "# **SQL y NoSQL**\n",
    "\n",
    "Bases de Datos Relacionales y No relacionales"
   ]
  },
  {
   "cell_type": "code",
   "execution_count": 1,
   "metadata": {},
   "outputs": [
    {
     "data": {
      "text/plain": [
       "'hola'"
      ]
     },
     "execution_count": 1,
     "metadata": {},
     "output_type": "execute_result"
    }
   ],
   "source": [
    "a={1:\"hola\",2:\"mundo\"}\n",
    "a.get(1)"
   ]
  }
 ],
 "metadata": {
  "kernelspec": {
   "display_name": "Python 3",
   "language": "python",
   "name": "python3"
  },
  "language_info": {
   "codemirror_mode": {
    "name": "ipython",
    "version": 3
   },
   "file_extension": ".py",
   "mimetype": "text/x-python",
   "name": "python",
   "nbconvert_exporter": "python",
   "pygments_lexer": "ipython3",
   "version": "3.11.0"
  },
  "orig_nbformat": 4,
  "vscode": {
   "interpreter": {
    "hash": "442367a78ad2513b796ad62e77bf8b114cdf9a8662c804798893dc403537c7f8"
   }
  }
 },
 "nbformat": 4,
 "nbformat_minor": 2
}
